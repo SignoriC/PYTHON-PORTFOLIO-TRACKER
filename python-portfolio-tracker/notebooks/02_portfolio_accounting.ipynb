{
 "cells": [
  {
   "cell_type": "markdown",
   "id": "c71f4cc8",
   "metadata": {},
   "source": [
    "## 02 - Accounting for Subscriptions/Redemptions/Fees -> P/L\n",
    "Once I have all my portfolio transactions recorded, I want to understand how much I am gaining.\n",
    "\n",
    "In the table below I reported the amounts I want to track to understand my Portfolio Profit/Loss.\n",
    "\n",
    "#### Portfolio Profit/Loss\n",
    "| Incomes | Costs |\n",
    "|---------------|------------------|\n",
    "| (Current) Market_Value | Subscriptions |\n",
    "| Redemptions | Commissions |\n",
    "| Dividends | Taxes |\n",
    "\n",
    "Portfolio **Profit (Loss) = Incomes - Costs**\n",
    "\n",
    "**Objective:**\n",
    "\n",
    "In this notebook, I will calculate:\n",
    "- the Profit and Loss (P/L) of the portfolio and of each individual asset.\n",
    "\n",
    "**Some glossary**\n",
    "- (Current) `Market_Value` = (`Shares` held) x (Current `Price`) of each asset.\n",
    "- `Redemptions` represent the cumulative capital outflows (`Amount`) from the sale or liquidation of an asset.\n",
    "- `Dividends` represent cash dividends (`Amount`) eventually received.\n",
    "- `Subscriptions` represent the cumulative capital inflows (`Amount`) allocated to purchase an asset.\n",
    "- `Commissions` and `Taxes` account for the cumulative transactional costs."
   ]
  },
  {
   "cell_type": "code",
   "execution_count": 1,
   "id": "bc8cb41d",
   "metadata": {},
   "outputs": [],
   "source": [
    "# import the necessary libraries\n",
    "import pandas as pd\n",
    "import numpy as np\n",
    "import matplotlib.pyplot as plt\n",
    "import yfinance as yf"
   ]
  },
  {
   "cell_type": "code",
   "execution_count": 2,
   "id": "f72da0ee",
   "metadata": {},
   "outputs": [],
   "source": [
    "plt.style.use('ggplot')"
   ]
  },
  {
   "cell_type": "code",
   "execution_count": 3,
   "id": "030f23e5",
   "metadata": {},
   "outputs": [],
   "source": [
    "# importing the function to load transactions from utils.py\n",
    "from utils import load_transactions"
   ]
  },
  {
   "cell_type": "markdown",
   "id": "afc8c79d",
   "metadata": {},
   "source": [
    "I load my portfolio transactions:"
   ]
  },
  {
   "cell_type": "code",
   "execution_count": 4,
   "id": "113184fe",
   "metadata": {},
   "outputs": [],
   "source": [
    "excel_path = '../data/transactions_carlo.xlsx'\n",
    "df_transacts = load_transactions(excel_path=excel_path, sheet_name=0)"
   ]
  },
  {
   "cell_type": "markdown",
   "id": "8dd70ec5",
   "metadata": {},
   "source": [
    "#### A. Calculation of Portfolio Profit and Loss (P/L).\n",
    "\n",
    "I calculate **Current** Portfolio P/L as: $$\\text{Portfolio P/L} = \\text{Current Market Value} + \\text{Total Redemptions} + \\text{Total Dividends} - \\text{Total Costs}$$ where $$\\text{Total Costs} = \\text{Total Subscriptions} + \\text{Total Commissions} + \\text{Total Taxes}$$\n",
    "\n",
    "Therefore Current *Portfolio Total Return (%)* = $\\frac{\\text{Portfolio P/L}}{\\text{Total Costs}}$\n",
    "\n",
    "\n",
    "\n",
    "The current value of each TICKER is estimated using two different price references:\n",
    "- the midpoint of the intraday range, calculated as the average between the High and Low prices;\n",
    "- the official Closing price at the end of the trading day.\n",
    "\n",
    "Similarly, per each TICKER I calculated the Current Total Return (%) as:\n",
    "\n",
    "$$\\text{Total Return} = \\frac{\\text{Current Market Value} + \\text{Total Redemptions} + \\text{Total Dividends}}{\\text{Total Costs}} -1$$"
   ]
  },
  {
   "cell_type": "markdown",
   "id": "b065e647",
   "metadata": {},
   "source": [
    "Per each of the variables `Subscriptions`, `Redemptions`, `Dividends`, (transactional) `Costs`, and `Shares` held, I create one `pd.Series` indexed on the Tickers: "
   ]
  },
  {
   "cell_type": "code",
   "execution_count": 5,
   "id": "c6f2ea44",
   "metadata": {},
   "outputs": [],
   "source": [
    "# Step 0: Get all tickers\n",
    "all_tickers = df_transacts['Ticker'].unique()\n",
    "\n",
    "# 1. Total Subscriptions (only 'BUY')\n",
    "subs = df_transacts[df_transacts['Type'] == 'BUY'].groupby('Ticker')['Amount'].sum()\n",
    "subs.name = 'Subscriptions'\n",
    "\n",
    "# 2. Total Redemptions ('SELL' as positive inflows)\n",
    "redemps = df_transacts[df_transacts['Type'] == 'SELL'].groupby('Ticker')['Amount'].sum().abs()\n",
    "redemps.name = 'Redemptions'\n",
    "\n",
    "# 3. Total Dividends\n",
    "div = df_transacts[df_transacts['Type'] == 'Dividend'].groupby('Ticker')['Amount'].sum().abs()\n",
    "div.name = 'Dividends'\n",
    "\n",
    "# 4. Total Costs\n",
    "costs = df_transacts.groupby('Ticker')[['Commissions', 'Taxes']].sum().sum(axis=1)\n",
    "costs.name = 'Costs'\n",
    "\n",
    "# 5. Current shares held\n",
    "shares = df_transacts.groupby('Ticker')['Shares'].sum()\n",
    "shares.name = 'Current_Shares'"
   ]
  },
  {
   "cell_type": "markdown",
   "id": "96ef4874",
   "metadata": {},
   "source": [
    "With the same logic I fetch the *Current Price* of eack Ticker and create the `pd.Series` `prices` and `close_dates` also indexed on the Tickers.\n",
    "\n",
    "*Note*. I append the suffix `'.MI'` to tickers for market identification, that in this case is Borsa Italiana (`'.MI'`)."
   ]
  },
  {
   "cell_type": "code",
   "execution_count": 6,
   "id": "8d214231",
   "metadata": {},
   "outputs": [],
   "source": [
    "price_ref = 'close'\n",
    "# 6. Prices and date (batch fetch)\n",
    "tickers_full = [t + '.MI' for t in all_tickers]\n",
    "price_data = yf.download(tickers_full, period='1d', group_by='ticker', progress=False, auto_adjust=True)\n",
    "\n",
    "prices = {}\n",
    "dates = {}\n",
    "for t in all_tickers:\n",
    "    label = t + '.MI'\n",
    "    if price_ref == 'close':\n",
    "        val = price_data[label]['Close'].iloc[0]\n",
    "    elif price_ref == 'intraday_range':\n",
    "        val = price_data[label][['High', 'Low']].mean(axis=1).iloc[0]\n",
    "    prices[t] = val\n",
    "    dates[t] = price_data.index[0].strftime('%Y-%m-%d')\n",
    "\n",
    "prices = pd.Series(prices, name='Last_Price')\n",
    "close_dates = pd.Series(dates, name='Last_Date')"
   ]
  },
  {
   "cell_type": "markdown",
   "id": "1bca9cd9",
   "metadata": {},
   "source": [
    "Then I combine evrything using `pd.concat()` set by default on `join = 'outer'`:"
   ]
  },
  {
   "cell_type": "code",
   "execution_count": 7,
   "id": "67aba253",
   "metadata": {},
   "outputs": [
    {
     "data": {
      "text/html": [
       "<div>\n",
       "<style scoped>\n",
       "    .dataframe tbody tr th:only-of-type {\n",
       "        vertical-align: middle;\n",
       "    }\n",
       "\n",
       "    .dataframe tbody tr th {\n",
       "        vertical-align: top;\n",
       "    }\n",
       "\n",
       "    .dataframe thead th {\n",
       "        text-align: right;\n",
       "    }\n",
       "</style>\n",
       "<table border=\"1\" class=\"dataframe\">\n",
       "  <thead>\n",
       "    <tr style=\"text-align: right;\">\n",
       "      <th></th>\n",
       "      <th>Current_Shares</th>\n",
       "      <th>Subscriptions</th>\n",
       "      <th>Redemptions</th>\n",
       "      <th>Dividends</th>\n",
       "      <th>Costs</th>\n",
       "      <th>Last_Price</th>\n",
       "      <th>Last_Date</th>\n",
       "      <th>Market_Value</th>\n",
       "      <th>Total Return (%)</th>\n",
       "    </tr>\n",
       "  </thead>\n",
       "  <tbody>\n",
       "    <tr>\n",
       "      <th>CSSPX</th>\n",
       "      <td>84</td>\n",
       "      <td>38147.08</td>\n",
       "      <td>0.00</td>\n",
       "      <td>0.0</td>\n",
       "      <td>26.00</td>\n",
       "      <td>566.11</td>\n",
       "      <td>2025-05-16</td>\n",
       "      <td>47553.24</td>\n",
       "      <td>24.57</td>\n",
       "    </tr>\n",
       "    <tr>\n",
       "      <th>EM710</th>\n",
       "      <td>201</td>\n",
       "      <td>31435.81</td>\n",
       "      <td>0.00</td>\n",
       "      <td>0.0</td>\n",
       "      <td>25.18</td>\n",
       "      <td>168.01</td>\n",
       "      <td>2025-05-16</td>\n",
       "      <td>33770.01</td>\n",
       "      <td>7.34</td>\n",
       "    </tr>\n",
       "    <tr>\n",
       "      <th>ITPS</th>\n",
       "      <td>145</td>\n",
       "      <td>30898.87</td>\n",
       "      <td>0.00</td>\n",
       "      <td>0.0</td>\n",
       "      <td>19.36</td>\n",
       "      <td>221.12</td>\n",
       "      <td>2025-05-16</td>\n",
       "      <td>32062.40</td>\n",
       "      <td>3.70</td>\n",
       "    </tr>\n",
       "    <tr>\n",
       "      <th>PHAU</th>\n",
       "      <td>129</td>\n",
       "      <td>28636.15</td>\n",
       "      <td>12276.87</td>\n",
       "      <td>0.0</td>\n",
       "      <td>34.00</td>\n",
       "      <td>265.77</td>\n",
       "      <td>2025-05-16</td>\n",
       "      <td>34284.33</td>\n",
       "      <td>62.40</td>\n",
       "    </tr>\n",
       "  </tbody>\n",
       "</table>\n",
       "</div>"
      ],
      "text/plain": [
       "       Current_Shares  Subscriptions  Redemptions  Dividends  Costs  \\\n",
       "CSSPX              84       38147.08         0.00        0.0  26.00   \n",
       "EM710             201       31435.81         0.00        0.0  25.18   \n",
       "ITPS              145       30898.87         0.00        0.0  19.36   \n",
       "PHAU              129       28636.15     12276.87        0.0  34.00   \n",
       "\n",
       "       Last_Price   Last_Date  Market_Value  Total Return (%)  \n",
       "CSSPX      566.11  2025-05-16      47553.24             24.57  \n",
       "EM710      168.01  2025-05-16      33770.01              7.34  \n",
       "ITPS       221.12  2025-05-16      32062.40              3.70  \n",
       "PHAU       265.77  2025-05-16      34284.33             62.40  "
      ]
     },
     "execution_count": 7,
     "metadata": {},
     "output_type": "execute_result"
    }
   ],
   "source": [
    "# 7. Combine everything\n",
    "pf_pl = pd.concat([shares, subs, redemps, div, costs, prices, close_dates], axis=1).fillna(0)\n",
    "pf_pl['Market_Value'] = pf_pl['Current_Shares'] * pf_pl['Last_Price']\n",
    "pf_pl['Total Return (%)'] = ((pf_pl['Market_Value'] + pf_pl['Redemptions'] + pf_pl['Dividends'])/ \\\n",
    "    (pf_pl['Subscriptions'] + pf_pl['Costs'])\n",
    "    - 1) * 100\n",
    "\n",
    "pf_pl.round(2)"
   ]
  },
  {
   "cell_type": "markdown",
   "id": "7e19d1a8",
   "metadata": {},
   "source": [
    "From the `pf_pl` DataFrame I can calculate the total Subscriptions, Redemptions, Commissions, Taxes, Dividends and Portfolio Current_Value:"
   ]
  },
  {
   "cell_type": "code",
   "execution_count": 8,
   "id": "f80d619d",
   "metadata": {},
   "outputs": [
    {
     "data": {
      "text/plain": [
       "Subscriptions    129117.91000\n",
       "Redemptions       12276.87000\n",
       "Dividends             0.00000\n",
       "Costs               104.54000\n",
       "Market_Value     147669.97554\n",
       "dtype: float64"
      ]
     },
     "execution_count": 8,
     "metadata": {},
     "output_type": "execute_result"
    }
   ],
   "source": [
    "pf_summary = pf_pl[['Subscriptions','Redemptions','Dividends','Costs','Market_Value']].sum()\n",
    "pf_summary"
   ]
  },
  {
   "cell_type": "markdown",
   "id": "d6b6f2ef",
   "metadata": {},
   "source": [
    "With these data I can calculate the Current *Portfolio P/L* and the *Portfolio Total Return (%)*:"
   ]
  },
  {
   "cell_type": "code",
   "execution_count": 9,
   "id": "9976206b",
   "metadata": {},
   "outputs": [
    {
     "name": "stdout",
     "output_type": "stream",
     "text": [
      "Portfolio Total Profit (Loss):  30724.4\n",
      "Portfolio Total Return (%): 23.78\n"
     ]
    }
   ],
   "source": [
    "print('Portfolio Total Profit (Loss): ',\n",
    "      round((pf_summary.Market_Value + pf_summary.Redemptions + pf_summary.Dividends \n",
    "             - pf_summary.Costs - pf_summary.Subscriptions),2))\n",
    "\n",
    "print('Portfolio Total Return (%):',\n",
    "      round(((pf_summary.Market_Value + pf_summary.Redemptions + pf_summary.Dividends)/\n",
    "             (pf_summary.Subscriptions + pf_summary.Costs) -1)*100,2))"
   ]
  },
  {
   "cell_type": "markdown",
   "id": "45e42e36",
   "metadata": {},
   "source": [
    "I can wrap the code to calculate Current Portfolio P/L by Ticker in the function `portfolio_pl()` for reuse:"
   ]
  },
  {
   "cell_type": "code",
   "execution_count": 10,
   "id": "8193b3b2",
   "metadata": {},
   "outputs": [],
   "source": [
    "def portfolio_pl(transactions: pd.DataFrame, market_suffix:str = '.MI', price_ref: str = 'close') -> pd.DataFrame:\n",
    "    \"\"\"\n",
    "    Calculate portfolio-level Profit & Loss (P/L) per Ticker.\n",
    "\n",
    "    Parameters:\n",
    "    -----------\n",
    "    transactions : pd.DataFrame\n",
    "        DataFrame of portfolio transactions with at least the following columns:\n",
    "        ['Ticker', 'Type', 'Amount', 'Shares', 'Commissions', 'Taxes']\n",
    "        \n",
    "    market_suffix : str\n",
    "        Suffix to append to tickers for market identification: '.MI' (default) for Borsa Italiana\n",
    "        \n",
    "    price_ref : str\n",
    "        Method to calculate price: 'close' (default) or 'intraday_range' (mean of high and low)\n",
    "\n",
    "    Returns:\n",
    "    --------\n",
    "    pd.DataFrame\n",
    "        Portfolio P/L per ticker with last available price date as index.\n",
    "    \"\"\"\n",
    "    # Step 0: Get all tickers\n",
    "    all_tickers = transactions['Ticker'].unique()\n",
    "\n",
    "    # 1. Total Subscriptions (only 'BUY')\n",
    "    subs = transactions[transactions['Type'] == 'BUY'].groupby('Ticker')['Amount'].sum()\n",
    "    subs.name = 'Subscriptions'\n",
    "\n",
    "    # 2. Total Redemptions ('SELL' as positive inflows)\n",
    "    redemps = transactions[transactions['Type'] == 'SELL'].groupby('Ticker')['Amount'].sum().abs()\n",
    "    redemps.name = 'Redemptions'\n",
    "\n",
    "    # 3. Total Dividends\n",
    "    div = transactions[transactions['Type'] == 'Dividend'].groupby('Ticker')['Amount'].sum().abs()\n",
    "    div.name = 'Dividends'\n",
    "\n",
    "    # 4. Total Costs (Commissions + Taxes)\n",
    "    costs = transactions.groupby('Ticker')[['Commissions', 'Taxes']].sum().sum(axis=1)\n",
    "    costs.name = 'Costs'\n",
    "\n",
    "    # 5. Current shares held\n",
    "    shares = transactions.groupby('Ticker')['Shares'].sum()\n",
    "    shares.name = 'Current_Shares'\n",
    "\n",
    "    # 6. Prices and last date\n",
    "    tickers_full = [t + market_suffix for t in all_tickers]\n",
    "    price_data = yf.download(tickers_full, period='1d', group_by='ticker', progress=False, auto_adjust=True)\n",
    "\n",
    "    prices = {}\n",
    "    dates = {}\n",
    "    for t in all_tickers:\n",
    "        label = t + market_suffix\n",
    "        if price_ref == 'close':\n",
    "            val = price_data[label]['Close'].iloc[0]\n",
    "        elif price_ref == 'intraday_range':\n",
    "            val = price_data[label][['High', 'Low']].mean(axis=1).iloc[0]\n",
    "        else:\n",
    "            raise ValueError(\"price_ref must be 'close' or 'intraday_range'\")\n",
    "        prices[t] = val\n",
    "        dates[t] = price_data.index[0].strftime('%Y-%m-%d')\n",
    "\n",
    "    prices = pd.Series(prices, name='Last_Price')\n",
    "    close_dates = pd.Series(dates, name='Last_Date')\n",
    "\n",
    "    # 7. Combine everything and compute P/L\n",
    "    pf_pl = pd.concat([shares, subs, redemps, div, costs, prices, close_dates], axis=1).fillna(0)\n",
    "\n",
    "    pf_pl['Market_Value'] = pf_pl['Current_Shares'] * pf_pl['Last_Price']\n",
    "    pf_pl['Total Return (%)'] = (\n",
    "        (pf_pl['Market_Value'] + pf_pl['Redemptions'] + pf_pl['Dividends'])/\n",
    "        (pf_pl['Subscriptions'] + pf_pl['Costs']) - 1) * 100\n",
    "\n",
    "    return pf_pl\n"
   ]
  },
  {
   "cell_type": "code",
   "execution_count": 11,
   "id": "b3a2a424",
   "metadata": {},
   "outputs": [
    {
     "name": "stdout",
     "output_type": "stream",
     "text": [
      "Portfolio Current P/L by Ticker at close price as of 2025-05-16:\n",
      "\n"
     ]
    },
    {
     "data": {
      "text/html": [
       "<div>\n",
       "<style scoped>\n",
       "    .dataframe tbody tr th:only-of-type {\n",
       "        vertical-align: middle;\n",
       "    }\n",
       "\n",
       "    .dataframe tbody tr th {\n",
       "        vertical-align: top;\n",
       "    }\n",
       "\n",
       "    .dataframe thead th {\n",
       "        text-align: right;\n",
       "    }\n",
       "</style>\n",
       "<table border=\"1\" class=\"dataframe\">\n",
       "  <thead>\n",
       "    <tr style=\"text-align: right;\">\n",
       "      <th></th>\n",
       "      <th>Current_Shares</th>\n",
       "      <th>Subscriptions</th>\n",
       "      <th>Redemptions</th>\n",
       "      <th>Dividends</th>\n",
       "      <th>Costs</th>\n",
       "      <th>Last_Price</th>\n",
       "      <th>Last_Date</th>\n",
       "      <th>Market_Value</th>\n",
       "      <th>Total Return (%)</th>\n",
       "    </tr>\n",
       "  </thead>\n",
       "  <tbody>\n",
       "    <tr>\n",
       "      <th>CSSPX</th>\n",
       "      <td>84</td>\n",
       "      <td>38147.08</td>\n",
       "      <td>0.00</td>\n",
       "      <td>0.0</td>\n",
       "      <td>26.00</td>\n",
       "      <td>566.11</td>\n",
       "      <td>2025-05-16</td>\n",
       "      <td>47553.24</td>\n",
       "      <td>24.57</td>\n",
       "    </tr>\n",
       "    <tr>\n",
       "      <th>EM710</th>\n",
       "      <td>201</td>\n",
       "      <td>31435.81</td>\n",
       "      <td>0.00</td>\n",
       "      <td>0.0</td>\n",
       "      <td>25.18</td>\n",
       "      <td>168.01</td>\n",
       "      <td>2025-05-16</td>\n",
       "      <td>33770.01</td>\n",
       "      <td>7.34</td>\n",
       "    </tr>\n",
       "    <tr>\n",
       "      <th>ITPS</th>\n",
       "      <td>145</td>\n",
       "      <td>30898.87</td>\n",
       "      <td>0.00</td>\n",
       "      <td>0.0</td>\n",
       "      <td>19.36</td>\n",
       "      <td>221.12</td>\n",
       "      <td>2025-05-16</td>\n",
       "      <td>32062.40</td>\n",
       "      <td>3.70</td>\n",
       "    </tr>\n",
       "    <tr>\n",
       "      <th>PHAU</th>\n",
       "      <td>129</td>\n",
       "      <td>28636.15</td>\n",
       "      <td>12276.87</td>\n",
       "      <td>0.0</td>\n",
       "      <td>34.00</td>\n",
       "      <td>265.77</td>\n",
       "      <td>2025-05-16</td>\n",
       "      <td>34284.33</td>\n",
       "      <td>62.40</td>\n",
       "    </tr>\n",
       "  </tbody>\n",
       "</table>\n",
       "</div>"
      ],
      "text/plain": [
       "       Current_Shares  Subscriptions  Redemptions  Dividends  Costs  \\\n",
       "CSSPX              84       38147.08         0.00        0.0  26.00   \n",
       "EM710             201       31435.81         0.00        0.0  25.18   \n",
       "ITPS              145       30898.87         0.00        0.0  19.36   \n",
       "PHAU              129       28636.15     12276.87        0.0  34.00   \n",
       "\n",
       "       Last_Price   Last_Date  Market_Value  Total Return (%)  \n",
       "CSSPX      566.11  2025-05-16      47553.24             24.57  \n",
       "EM710      168.01  2025-05-16      33770.01              7.34  \n",
       "ITPS       221.12  2025-05-16      32062.40              3.70  \n",
       "PHAU       265.77  2025-05-16      34284.33             62.40  "
      ]
     },
     "execution_count": 11,
     "metadata": {},
     "output_type": "execute_result"
    }
   ],
   "source": [
    "# Example usage of portfolio_pl() function\n",
    "price_ref='close'\n",
    "df_pl = portfolio_pl(transactions=df_transacts, price_ref=price_ref)\n",
    "print(f'Portfolio Current P/L by Ticker at {price_ref} price as of {df_pl.Last_Date.unique()[0]}:\\n')\n",
    "df_pl.round(2)"
   ]
  },
  {
   "cell_type": "markdown",
   "id": "aecec679",
   "metadata": {},
   "source": [
    "I can embed the function `portfolio_pl()` and calculate the Current Portfolio summary in the function `portfolio_summary()` for reuse:"
   ]
  },
  {
   "cell_type": "code",
   "execution_count": 12,
   "id": "d8346a43",
   "metadata": {},
   "outputs": [],
   "source": [
    "def portfolio_summary(transactions: pd.DataFrame, market_suffix: str = '.MI',\n",
    "                      price_ref: str = 'close') -> pd.Series:\n",
    "    \"\"\"\n",
    "    Generate a summary of the overall portfolio from the transactions DataFrame.\n",
    "\n",
    "    Parameters:\n",
    "    -----------\n",
    "    transactions : pd.DataFrame\n",
    "        DataFrame of portfolio transactions with at least the following columns:\n",
    "        ['Ticker', 'Type', 'Amount', 'Shares', 'Commissions', 'Taxes']\n",
    "    \n",
    "    market_suffix : str\n",
    "        Suffix to append to tickers for market identification: '.MI' (default) for Borsa Italiana\n",
    "        \n",
    "    price_ref : str\n",
    "        Method to calculate price: 'close' (default) or 'intraday_range' (mean of high and low)\n",
    "        \n",
    "    Returns:\n",
    "    --------\n",
    "    pd.Series\n",
    "        A Series summarizing Subscriptions, Redemptions, Dividends, Costs, and Current Value.\n",
    "    \"\"\"\n",
    "    pf_pl = portfolio_pl(transactions, market_suffix = market_suffix, price_ref=price_ref)\n",
    "    \n",
    "    summary = pf_pl[['Subscriptions', 'Redemptions', 'Dividends', 'Costs', 'Market_Value']].sum()\n",
    "    summary['Profit (Loss)'] = summary.Market_Value + summary.Redemptions + summary.Dividends\\\n",
    "        - summary.Costs - summary.Subscriptions\n",
    "    summary['Total Return (%)'] = (summary['Profit (Loss)'] / (summary.Subscriptions + summary.Costs)) * 100\n",
    "    \n",
    "    return summary"
   ]
  },
  {
   "cell_type": "code",
   "execution_count": 13,
   "id": "beca0c03",
   "metadata": {},
   "outputs": [
    {
     "name": "stdout",
     "output_type": "stream",
     "text": [
      "Portfolio Summary at close price as of 2025-05-16:\n",
      "\n"
     ]
    },
    {
     "data": {
      "text/plain": [
       "Subscriptions       129117.91\n",
       "Redemptions          12276.87\n",
       "Dividends                0.00\n",
       "Costs                  104.54\n",
       "Market_Value        147669.98\n",
       "Profit (Loss)        30724.40\n",
       "Total Return (%)        23.78\n",
       "dtype: float64"
      ]
     },
     "execution_count": 13,
     "metadata": {},
     "output_type": "execute_result"
    }
   ],
   "source": [
    "# Example usage of portofolio_summary() function\n",
    "price_ref='close'\n",
    "df_summary = portfolio_summary(transactions=df_transacts, price_ref=price_ref)\n",
    "\n",
    "print(f'Portfolio Summary at {price_ref} price as of {df_pl.Last_Date.unique()[0]}:\\n')\n",
    "df_summary.round(2)"
   ]
  },
  {
   "cell_type": "markdown",
   "id": "2f3556aa",
   "metadata": {},
   "source": [
    "Notice that the *Portfolio Total Return (%)* is the weighted average of each Ticker's `Total Return (%)`, where each Ticker's weight is the proportion of the `Subscriptions` + `Costs` for that Ticker, relative to the *Total Subscriptions + Costs* of the Portfolio."
   ]
  },
  {
   "cell_type": "markdown",
   "id": "9edee680",
   "metadata": {},
   "source": [
    "#### B. Current Asset Allocation (time t = today).\n",
    "\n",
    "Helps visualizing the deviations from planned asset allocation and taking action to rebalance every 6 or 12 months."
   ]
  },
  {
   "cell_type": "code",
   "execution_count": 14,
   "id": "aef4987c",
   "metadata": {},
   "outputs": [
    {
     "data": {
      "text/plain": [
       "CSSPX    47553.238770\n",
       "EM710    33770.008896\n",
       "ITPS     32062.399292\n",
       "PHAU     34284.328583\n",
       "Name: Market_Value, dtype: float64"
      ]
     },
     "execution_count": 14,
     "metadata": {},
     "output_type": "execute_result"
    }
   ],
   "source": [
    "# strategy asset allocation\n",
    "strategy_percentages = [34,22,22,22]\n",
    "\n",
    "# select the series with assets currently held and current values\n",
    "current_allocation = pf_pl[pf_pl['Current_Shares']!=0]['Market_Value']\n",
    "current_allocation"
   ]
  },
  {
   "cell_type": "markdown",
   "id": "70b41693",
   "metadata": {},
   "source": [
    "I can directly wrap the code in the function `compare_asset_allocation()`:"
   ]
  },
  {
   "cell_type": "code",
   "execution_count": 15,
   "id": "22948926",
   "metadata": {},
   "outputs": [],
   "source": [
    "def compare_asset_allocation(current_allocation: pd.Series, strategy_percentages: list, \n",
    "                             strategy_labels: list, title_date: str = ''):\n",
    "    \"\"\"\n",
    "    Compare current and strategic asset allocation using pie charts.\n",
    "\n",
    "    Parameters:\n",
    "    -----------\n",
    "    current_allocation : pd.Series\n",
    "        Series with tickers as index and current value as values.\n",
    "        \n",
    "    strategy_percentages : list\n",
    "        List of planned allocation percentages in the same order as tickers.\n",
    "        \n",
    "    strategy_labels : list\n",
    "        List of tickers or asset names matching the order in strategy_percentages.\n",
    "        \n",
    "    title_date : str\n",
    "        Optional date string to annotate current allocation chart.\n",
    "    \"\"\"\n",
    "    fig, ax = plt.subplots(1, 2, figsize=(12, 5))\n",
    "\n",
    "    ax[0].pie(current_allocation, labels=current_allocation.index,\n",
    "              autopct='%1.1f%%', pctdistance=1.25, labeldistance=0.6)\n",
    "    ax[0].set_title(f'Current Asset Allocation {f\"({title_date})\" if title_date else \"\"}')\n",
    "\n",
    "    ax[1].pie(strategy_percentages, labels=strategy_labels,\n",
    "              autopct='%1.1f%%', pctdistance=1.25, labeldistance=0.6)\n",
    "    ax[1].set_title('Strategy (Planned) Asset Allocation')\n",
    "\n",
    "    plt.tight_layout()\n",
    "    plt.show()"
   ]
  },
  {
   "cell_type": "code",
   "execution_count": 16,
   "id": "2b473a46",
   "metadata": {},
   "outputs": [
    {
     "data": {
      "image/png": "[encoded data removed]",
      "text/plain": [
       "<Figure size 1200x500 with 2 Axes>"
      ]
     },
     "metadata": {},
     "output_type": "display_data"
    }
   ],
   "source": [
    "# Example usage of the function compare_asset_allocation()\n",
    "compare_asset_allocation(current_allocation = current_allocation,\n",
    "                         strategy_percentages = strategy_percentages,\n",
    "                         strategy_labels= current_allocation.index,\n",
    "                         title_date = df_pl['Last_Date'].iloc[0])"
   ]
  },
  {
   "cell_type": "markdown",
   "id": "ab59259a",
   "metadata": {},
   "source": [
    "#### C. Rebalancing Instructions (if it's time to rebalance)\n",
    "To conclude this notebook, I define a function that calculates the number of `'Shares_To_Trade'`—either to BUY or SELL—for each asset in order to rebalance the portfolio according to the target asset allocation strategy.\n",
    "One of the inputs to this function is the DataFrame containing the current portfolio performance by ticker, referred to as `df_pl` in the previous sections."
   ]
  },
  {
   "cell_type": "code",
   "execution_count": 17,
   "id": "5533520e",
   "metadata": {},
   "outputs": [],
   "source": [
    "def calculate_rebalance(current_portfolio_data, strategy_percentages, amount_invest=0):\n",
    "    \"\"\"\n",
    "    Calculate the number of shares to buy or sell for each asset to reach target portfolio weights.\n",
    "\n",
    "    Parameters:\n",
    "    -----------\n",
    "    current_portfolio_data : pd.DataFrame\n",
    "        A DataFrame containing at least the following columns:\n",
    "        - 'Current_Shares': current number of shares held\n",
    "        - 'Market_Value' : current market value of the position\n",
    "        - 'Last_Price'   : latest price per share\n",
    "        The DataFrame index should contain asset tickers.\n",
    "\n",
    "    strategy_percentages : list of float\n",
    "        Target allocation weights as percentages for each asset, in the same order as current_portfolio_data.\n",
    "\n",
    "    amount_invest : float, optional (default=0)\n",
    "        Additional capital to invest during rebalancing.\n",
    "\n",
    "    Returns:\n",
    "    --------\n",
    "    pd.DataFrame\n",
    "        A DataFrame including:\n",
    "        - 'Current_Shares'\n",
    "        - 'Target_Shares'\n",
    "        - 'Shares_To_Trade': positive means buy, negative means sell\n",
    "\n",
    "    Also prints:\n",
    "    ------------\n",
    "    A list of assets and the number of shares to buy/sell to reach target allocation.\n",
    "    \"\"\"\n",
    "    # Extract and copy relevant columns\n",
    "    allocation = current_portfolio_data.loc[:, ['Current_Shares', 'Market_Value', 'Last_Price']].copy()\n",
    "\n",
    "    # Total portfolio value including additional investment\n",
    "    total_value = allocation['Market_Value'].sum() + amount_invest\n",
    "\n",
    "    # Calculate target values and shares\n",
    "    target_weights = np.array(strategy_percentages) / 100\n",
    "    allocation['Target_Value'] = total_value * target_weights\n",
    "    allocation['Target_Shares'] = (allocation['Target_Value'] // allocation['Last_Price']).astype(int)\n",
    "    allocation['Shares_To_Trade'] = allocation['Target_Shares'] - allocation['Current_Shares']\n",
    "\n",
    "    return allocation[['Current_Shares', 'Target_Shares', 'Shares_To_Trade']]"
   ]
  },
  {
   "cell_type": "code",
   "execution_count": 18,
   "id": "cc236ea2",
   "metadata": {},
   "outputs": [
    {
     "name": "stdout",
     "output_type": "stream",
     "text": [
      "Rebalance Instructions (Shares to Trade) when rebalance is required:\n",
      "\n"
     ]
    },
    {
     "data": {
      "text/html": [
       "<div>\n",
       "<style scoped>\n",
       "    .dataframe tbody tr th:only-of-type {\n",
       "        vertical-align: middle;\n",
       "    }\n",
       "\n",
       "    .dataframe tbody tr th {\n",
       "        vertical-align: top;\n",
       "    }\n",
       "\n",
       "    .dataframe thead th {\n",
       "        text-align: right;\n",
       "    }\n",
       "</style>\n",
       "<table border=\"1\" class=\"dataframe\">\n",
       "  <thead>\n",
       "    <tr style=\"text-align: right;\">\n",
       "      <th></th>\n",
       "      <th>Current_Shares</th>\n",
       "      <th>Target_Shares</th>\n",
       "      <th>Shares_To_Trade</th>\n",
       "    </tr>\n",
       "  </thead>\n",
       "  <tbody>\n",
       "    <tr>\n",
       "      <th>CSSPX</th>\n",
       "      <td>84</td>\n",
       "      <td>88</td>\n",
       "      <td>4</td>\n",
       "    </tr>\n",
       "    <tr>\n",
       "      <th>EM710</th>\n",
       "      <td>201</td>\n",
       "      <td>193</td>\n",
       "      <td>-8</td>\n",
       "    </tr>\n",
       "    <tr>\n",
       "      <th>ITPS</th>\n",
       "      <td>145</td>\n",
       "      <td>146</td>\n",
       "      <td>1</td>\n",
       "    </tr>\n",
       "    <tr>\n",
       "      <th>PHAU</th>\n",
       "      <td>129</td>\n",
       "      <td>122</td>\n",
       "      <td>-7</td>\n",
       "    </tr>\n",
       "  </tbody>\n",
       "</table>\n",
       "</div>"
      ],
      "text/plain": [
       "       Current_Shares  Target_Shares  Shares_To_Trade\n",
       "CSSPX              84             88                4\n",
       "EM710             201            193               -8\n",
       "ITPS              145            146                1\n",
       "PHAU              129            122               -7"
      ]
     },
     "execution_count": 18,
     "metadata": {},
     "output_type": "execute_result"
    }
   ],
   "source": [
    "# example usage of calculate_rebalance() function when rebalance is required\n",
    "# stratey_percentages defined in section B assuming same order as df_pl index\n",
    "add_investment = 0 # eventual additional money to invest\n",
    "\n",
    "print('Rebalance Instructions (Shares to Trade) when rebalance is required:\\n')\n",
    "calculate_rebalance(current_portfolio_data=df_pl,\n",
    "                    strategy_percentages=strategy_percentages,\n",
    "                    amount_invest=add_investment)"
   ]
  },
  {
   "cell_type": "markdown",
   "id": "930cc43c",
   "metadata": {},
   "source": [
    "### Summary\n",
    "In this chapter, I explored how to calculate Portfolio Profit and Loss and created the functions:\n",
    "- `portfolio_pl()` returning the Current P/L per each Ticker,\n",
    "- `portfolio_summary()` returning the Current Total Portfolio P/L and the summary of total Subscriptions, Redemptions, Dividends, Costs and Current Portfolio Market Value.\n",
    "\n",
    "Finally, I used the `compare_asset_allocation()` function to visualize the current asset allocation versus the target strategy allocation, and defined the `calculate_rebalance()` function to determine the `'Shares_To_Trade'` for each asset when rebalancing is required."
   ]
  }
 ],
 "metadata": {
  "kernelspec": {
   "display_name": "base",
   "language": "python",
   "name": "python3"
  },
  "language_info": {
   "codemirror_mode": {
    "name": "ipython",
    "version": 3
   },
   "file_extension": ".py",
   "mimetype": "text/x-python",
   "name": "python",
   "nbconvert_exporter": "python",
   "pygments_lexer": "ipython3",
   "version": "3.11.7"
  }
 },
 "nbformat": 4,
 "nbformat_minor": 5
}
